{
 "cells": [
  {
   "cell_type": "markdown",
   "metadata": {},
   "source": [
    "# OpenCV Exploration\n",
    "[Tutorial](https://www.geeksforgeeks.org/introduction-to-opencv/)"
   ]
  },
  {
   "cell_type": "code",
   "execution_count": 3,
   "metadata": {},
   "outputs": [
    {
     "name": "stdout",
     "output_type": "stream",
     "text": [
      "Height = 760,  Width = 1016\n"
     ]
    }
   ],
   "source": [
    "# Importing the OpenCV library and matplotlib\n",
    "import cv2\n",
    "import matplotlib.pyplot as plt\n",
    "# Reading the image using imread() function \n",
    "image = cv2.imread('camera.jpg') \n",
    "  \n",
    "# Extracting the height and width of an image \n",
    "h, w = image.shape[:2] \n",
    "# Displaying the height and width \n",
    "print(\"Height = {},  Width = {}\".format(h, w)) "
   ]
  },
  {
   "cell_type": "code",
   "execution_count": 4,
   "metadata": {},
   "outputs": [
    {
     "name": "stdout",
     "output_type": "stream",
     "text": [
      "R = 217, G = 189, B = 175\n",
      "B = 175\n"
     ]
    }
   ],
   "source": [
    "# Extracting RGB values.  \n",
    "# Here we have randomly chosen a pixel \n",
    "# by passing in 100, 100 for height and width. \n",
    "(B, G, R) = image[100, 100] \n",
    "  \n",
    "# Displaying the pixel values \n",
    "print(\"R = {}, G = {}, B = {}\".format(R, G, B)) \n",
    "  \n",
    "# We can also pass the channel to extract  \n",
    "# the value for a specific channel \n",
    "B = image[100, 100, 0] \n",
    "print(\"B = {}\".format(B))"
   ]
  },
  {
   "cell_type": "code",
   "execution_count": 8,
   "metadata": {},
   "outputs": [
    {
     "data": {
      "text/plain": [
       "(760, 1016, 3)"
      ]
     },
     "execution_count": 8,
     "metadata": {},
     "output_type": "execute_result"
    }
   ],
   "source": []
  },
  {
   "cell_type": "code",
   "execution_count": null,
   "metadata": {},
   "outputs": [],
   "source": []
  }
 ],
 "metadata": {
  "kernelspec": {
   "display_name": "Python 3",
   "language": "python",
   "name": "python3"
  },
  "language_info": {
   "codemirror_mode": {
    "name": "ipython",
    "version": 3
   },
   "file_extension": ".py",
   "mimetype": "text/x-python",
   "name": "python",
   "nbconvert_exporter": "python",
   "pygments_lexer": "ipython3",
   "version": "3.9.0"
  }
 },
 "nbformat": 4,
 "nbformat_minor": 4
}
